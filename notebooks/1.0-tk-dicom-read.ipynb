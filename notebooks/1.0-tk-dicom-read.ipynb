{
 "cells": [
  {
   "cell_type": "code",
   "execution_count": 54,
   "metadata": {},
   "outputs": [],
   "source": [
    "import pydicom\n",
    "import matplotlib.pyplot as plt\n",
    "import numpy as np"
   ]
  },
  {
   "cell_type": "code",
   "execution_count": 55,
   "metadata": {},
   "outputs": [
    {
     "data": {
      "text/plain": [
       "Dataset.file_meta -------------------------------\n",
       "(0002, 0000) File Meta Information Group Length  UL: 194\n",
       "(0002, 0001) File Meta Information Version       OB: b'\\x00\\x01'\n",
       "(0002, 0002) Media Storage SOP Class UID         UI: CT Image Storage\n",
       "(0002, 0003) Media Storage SOP Instance UID      UI: 1.3.6.1.4.1.14519.5.2.1.4320.7007.188842186243229494803643357508\n",
       "(0002, 0010) Transfer Syntax UID                 UI: Implicit VR Little Endian\n",
       "(0002, 0012) Implementation Class UID            UI: 1.2.40.0.13.1.1.1\n",
       "(0002, 0013) Implementation Version Name         SH: 'dcm4che-1.4.34'\n",
       "-------------------------------------------------\n",
       "(0008, 0008) Image Type                          CS: ['ORIGINAL', 'PRIMARY', 'AXIAL', 'CT_SOM5 SPI']\n",
       "(0008, 0016) SOP Class UID                       UI: CT Image Storage\n",
       "(0008, 0018) SOP Instance UID                    UI: 1.3.6.1.4.1.14519.5.2.1.4320.7007.188842186243229494803643357508\n",
       "(0008, 0020) Study Date                          DA: '20030727'\n",
       "(0008, 0021) Series Date                         DA: '20030727'\n",
       "(0008, 0022) Acquisition Date                    DA: '20030727'\n",
       "(0008, 0023) Content Date                        DA: '20030727'\n",
       "(0008, 0030) Study Time                          TM: '110459.28000'\n",
       "(0008, 0031) Series Time                         TM: '110714.59000'\n",
       "(0008, 0032) Acquisition Time                    TM: '110602.083586'\n",
       "(0008, 0033) Content Time                        TM: '110602.083586'\n",
       "(0008, 0050) Accession Number                    SH: '3122736387975741'\n",
       "(0008, 0054) Retrieve AE Title                   AE: 'AE_TITLE'\n",
       "(0008, 0060) Modality                            CS: 'CT'\n",
       "(0008, 0070) Manufacturer                        LO: 'SIEMENS'\n",
       "(0008, 0090) Referring Physician's Name          PN: ''\n",
       "(0008, 1010) Station Name                        SH: 'CT57204'\n",
       "(0008, 1030) Study Description                   LO: 'CT Thorax w/o Contrast'\n",
       "(0008, 103e) Series Description                  LO: 'THORAX WO  3.0  B41 Soft Tissue'\n",
       "(0008, 1080) Admitting Diagnoses Description     LO: ''\n",
       "(0008, 1090) Manufacturer's Model Name           LO: 'Sensation 40'\n",
       "(0009, 0010) Private Creator                     LO: 'SIEMENS CT VA1 DUMMY'\n",
       "(0009, 0011) Private Creator                     LO: 'EMAGEON STUDY HOME'\n",
       "(0010, 0010) Patient's Name                      PN: 'QIN-LSC-0055'\n",
       "(0010, 0020) Patient ID                          LO: 'QIN-LSC-0055'\n",
       "(0010, 0030) Patient's Birth Date                DA: ''\n",
       "(0010, 0040) Patient's Sex                       CS: 'M'\n",
       "(0010, 1010) Patient's Age                       AS: '079Y'\n",
       "(0010, 1020) Patient's Size                      DS: None\n",
       "(0010, 1030) Patient's Weight                    DS: None\n",
       "(0010, 2160) Ethnic Group                        SH: '01'\n",
       "(0010, 2180) Occupation                          SH: ''\n",
       "(0010, 21a0) Smoking Status                      CS: 'UNKNOWN'\n",
       "(0010, 21b0) Additional Patient History          LT: ''\n",
       "(0010, 21c0) Pregnancy Status                    US: 4\n",
       "(0010, 4000) Patient Comments                    LT: ''\n",
       "(0012, 0063) De-identification Method            LO: 'Per DICOM PS 3.15 AnnexE. Details in 0012,0064'\n",
       "(0012, 0064)  De-identification Method Code Sequence  8 item(s) ---- \n",
       "   (0008, 0100) Code Value                          SH: '113100'\n",
       "   (0008, 0102) Coding Scheme Designator            SH: 'DCM'\n",
       "   (0008, 0104) Code Meaning                        LO: 'Basic Application Confidentiality Profile'\n",
       "   ---------\n",
       "   (0008, 0100) Code Value                          SH: '113101'\n",
       "   (0008, 0102) Coding Scheme Designator            SH: 'DCM'\n",
       "   (0008, 0104) Code Meaning                        LO: 'Clean Pixel Data Option'\n",
       "   ---------\n",
       "   (0008, 0100) Code Value                          SH: '113103'\n",
       "   (0008, 0102) Coding Scheme Designator            SH: 'DCM'\n",
       "   (0008, 0104) Code Meaning                        LO: 'Clean Graphics Option'\n",
       "   ---------\n",
       "   (0008, 0100) Code Value                          SH: '113105'\n",
       "   (0008, 0102) Coding Scheme Designator            SH: 'DCM'\n",
       "   (0008, 0104) Code Meaning                        LO: 'Clean Descriptors Option'\n",
       "   ---------\n",
       "   (0008, 0100) Code Value                          SH: '113107'\n",
       "   (0008, 0102) Coding Scheme Designator            SH: 'DCM'\n",
       "   (0008, 0104) Code Meaning                        LO: 'Retain Longitudinal With Modified Dates Option'\n",
       "   ---------\n",
       "   (0008, 0100) Code Value                          SH: '113108'\n",
       "   (0008, 0102) Coding Scheme Designator            SH: 'DCM'\n",
       "   (0008, 0104) Code Meaning                        LO: 'Retain Patient Characteristics Option'\n",
       "   ---------\n",
       "   (0008, 0100) Code Value                          SH: '113109'\n",
       "   (0008, 0102) Coding Scheme Designator            SH: 'DCM'\n",
       "   (0008, 0104) Code Meaning                        LO: 'Retain Device Identity Option'\n",
       "   ---------\n",
       "   (0008, 0100) Code Value                          SH: '113111'\n",
       "   (0008, 0102) Coding Scheme Designator            SH: 'DCM'\n",
       "   (0008, 0104) Code Meaning                        LO: 'Retain Safe Private Option'\n",
       "   ---------\n",
       "(0013, 0010) Private Creator                     LO: 'CTP'\n",
       "(0013, 1010) Private tag data                    UN: b'QIN LUNG CT\\x00'\n",
       "(0013, 1013) Private tag data                    UN: b'43207007'\n",
       "(0018, 0015) Body Part Examined                  CS: 'CHEST'\n",
       "(0018, 0050) Slice Thickness                     DS: '3.0'\n",
       "(0018, 0060) KVP                                 DS: '120.0'\n",
       "(0018, 0081) Echo Time                           DS: None\n",
       "(0018, 0088) Spacing Between Slices              DS: None\n",
       "(0018, 0090) Data Collection Diameter            DS: '500.0'\n",
       "(0018, 1000) Device Serial Number                LO: '57204'\n",
       "(0018, 1020) Software Versions                   LO: 'syngo CT 2007S'\n",
       "(0018, 1030) Protocol Name                       LO: '1_3mm_THORAX_WO'\n",
       "(0018, 1100) Reconstruction Diameter             DS: '428.0'\n",
       "(0018, 1110) Distance Source to Detector         DS: '1040.0'\n",
       "(0018, 1111) Distance Source to Patient          DS: '570.0'\n",
       "(0018, 1120) Gantry/Detector Tilt                DS: '0.0'\n",
       "(0018, 1130) Table Height                        DS: '223.0'\n",
       "(0018, 1140) Rotation Direction                  CS: 'CW'\n",
       "(0018, 1150) Exposure Time                       IS: '500'\n",
       "(0018, 1151) X-Ray Tube Current                  IS: '502'\n",
       "(0018, 1152) Exposure                            IS: '313'\n",
       "(0018, 1160) Filter Type                         SH: '0'\n",
       "(0018, 1170) Generator Power                     IS: '48'\n",
       "(0018, 1190) Focal Spot(s)                       DS: '1.2'\n",
       "(0018, 1200) Date of Last Calibration            DA: '20030727'\n",
       "(0018, 1201) Time of Last Calibration            TM: '071147.000000'\n",
       "(0018, 1210) Convolution Kernel                  SH: 'B41f'\n",
       "(0018, 5100) Patient Position                    CS: 'HFS'\n",
       "(0018, 5101) View Position                       CS: ''\n",
       "(0019, 0010) Private Creator                     LO: 'SIEMENS CT VA0  COAD'\n",
       "(0020, 000d) Study Instance UID                  UI: 1.3.6.1.4.1.14519.5.2.1.4320.7007.162154920966479062956783486597\n",
       "(0020, 000e) Series Instance UID                 UI: 1.3.6.1.4.1.14519.5.2.1.4320.7007.290396844417547229927401577621\n",
       "(0020, 0010) Study ID                            SH: ''\n",
       "(0020, 0011) Series Number                       IS: '5'\n",
       "(0020, 0012) Acquisition Number                  IS: '2'\n",
       "(0020, 0013) Instance Number                     IS: '16'\n",
       "(0020, 0020) Patient Orientation                 CS: ''\n",
       "(0020, 0032) Image Position (Patient)            DS: [-215.58203125, -436.58203125, 419]\n",
       "(0020, 0037) Image Orientation (Patient)         DS: [1, 0, 0, 0, 1, 0]\n",
       "(0020, 0052) Frame of Reference UID              UI: 1.3.6.1.4.1.14519.5.2.1.4320.7007.325770634555845850216687946083\n",
       "(0020, 0060) Laterality                          CS: ''\n",
       "(0020, 1002) Images in Acquisition               IS: '0'\n",
       "(0020, 1040) Position Reference Indicator        LO: ''\n",
       "(0020, 1041) Slice Location                      DS: '419.0'\n",
       "(0020, 4000) Image Comments                      LT: ''\n",
       "(0021, 0010) Private Creator                     LO: 'SIEMENS MED'\n",
       "(0028, 0002) Samples per Pixel                   US: 1\n",
       "(0028, 0004) Photometric Interpretation          CS: 'MONOCHROME2'\n",
       "(0028, 0006) Planar Configuration                US: 0\n",
       "(0028, 0010) Rows                                US: 512\n",
       "(0028, 0011) Columns                             US: 512\n",
       "(0028, 0030) Pixel Spacing                       DS: [0.8359375, 0.8359375]\n",
       "(0028, 0034) Pixel Aspect Ratio                  IS: [0, 0]\n",
       "(0028, 0100) Bits Allocated                      US: 16\n",
       "(0028, 0101) Bits Stored                         US: 12\n",
       "(0028, 0102) High Bit                            US: 11\n",
       "(0028, 0103) Pixel Representation                US: 0\n",
       "(0028, 0106) Smallest Image Pixel Value          US: 0\n",
       "(0028, 0107) Largest Image Pixel Value           US: 2271\n",
       "(0028, 1050) Window Center                       DS: '40.0'\n",
       "(0028, 1051) Window Width                        DS: '400.0'\n",
       "(0028, 1052) Rescale Intercept                   DS: '-1024.0'\n",
       "(0028, 1053) Rescale Slope                       DS: '1.0'\n",
       "(0028, 1054) Rescale Type                        LO: ''\n",
       "(0028, 1055) Window Center & Width Explanation   LO: ['WINDOW1', 'WINDOW2']\n",
       "(0028, 2110) Lossy Image Compression             CS: ''\n",
       "(0029, 0010) Private Creator                     LO: 'SIEMENS CSA HEADER'\n",
       "(0029, 0011) Private Creator                     LO: 'SIEMENS MEDCOM HEADER'\n",
       "(0032, 000c) Study Priority ID                   CS: 'LOW'\n",
       "(0032, 1030) Reason for Study                    LO: ''\n",
       "(0032, 1060) Requested Procedure Description     LO: 'CT Thorax w/o Contrast'\n",
       "(0032, 1064)  Requested Procedure Code Sequence  1 item(s) ---- \n",
       "   (0008, 0100) Code Value                          SH: 'CT Thorax w/o Co'\n",
       "   (0008, 0102) Coding Scheme Designator            SH: 'CT Thorax w/o Co'\n",
       "   (0008, 0104) Code Meaning                        LO: 'CT Thorax w/o Contrast'\n",
       "   ---------\n",
       "(0032, 4000) Study Comments                      LT: ''\n",
       "(7fe0, 0010) Pixel Data                          OW: Array of 524288 elements"
      ]
     },
     "execution_count": 55,
     "metadata": {},
     "output_type": "execute_result"
    }
   ],
   "source": [
    "path = \"C:/Users/taaha/Downloads/ct_nonequi_tilt/164515-00000014.dcm\"\n",
    "path = \"C:/Users/taaha/Downloads/manifest-OtXaMwL56190865641215613043/QIN LUNG CT/QIN-LSC-0055/07-27-2003-1-CT Thorax wo Contrast-86597/5.000000-THORAX WO  3.0  B41 Soft Tissue-77621/1-016.dcm\"\n",
    "ds = pydicom.read_file(path)\n",
    "ds"
   ]
  },
  {
   "cell_type": "code",
   "execution_count": 56,
   "metadata": {},
   "outputs": [
    {
     "data": {
      "text/plain": [
       "<matplotlib.image.AxesImage at 0x1d85c5a4760>"
      ]
     },
     "execution_count": 56,
     "metadata": {},
     "output_type": "execute_result"
    },
    {
     "data": {
      "image/png": "[encoded data removed]",
      "text/plain": [
       "<Figure size 432x288 with 1 Axes>"
      ]
     },
     "metadata": {
      "needs_background": "light"
     },
     "output_type": "display_data"
    }
   ],
   "source": [
    "plt.imshow(ds.pixel_array, cmap = 'gray')"
   ]
  },
  {
   "cell_type": "code",
   "execution_count": 57,
   "metadata": {},
   "outputs": [
    {
     "data": {
      "text/plain": [
       "dtype('uint16')"
      ]
     },
     "execution_count": 57,
     "metadata": {},
     "output_type": "execute_result"
    }
   ],
   "source": [
    "ds.pixel_array[0, 0].dtype"
   ]
  },
  {
   "cell_type": "code",
   "execution_count": 58,
   "metadata": {},
   "outputs": [
    {
     "data": {
      "text/plain": [
       "2022"
      ]
     },
     "execution_count": 58,
     "metadata": {},
     "output_type": "execute_result"
    }
   ],
   "source": [
    "unique = np.unique(ds.pixel_array)\n",
    "len(unique)"
   ]
  },
  {
   "cell_type": "code",
   "execution_count": 59,
   "metadata": {},
   "outputs": [
    {
     "data": {
      "text/plain": [
       "524288"
      ]
     },
     "execution_count": 59,
     "metadata": {},
     "output_type": "execute_result"
    }
   ],
   "source": [
    "data = ds.pixel_array.tobytes()\n",
    "# v = (data[i + 1] << 8) | data[i]\n",
    "len(data)"
   ]
  },
  {
   "cell_type": "code",
   "execution_count": 60,
   "metadata": {},
   "outputs": [],
   "source": [
    "primary = data[1::2]\n",
    "secondary = data[0::2]\n",
    "\n"
   ]
  },
  {
   "cell_type": "code",
   "execution_count": 61,
   "metadata": {},
   "outputs": [],
   "source": [
    "# primary = bytearray()\n",
    "# secondary = bytearray()\n",
    "\n",
    "# for pixel in ds.pixel_data.flatten():\n",
    "\n",
    "# \ta = (0x0000ff00 & pixel) >> 8\n",
    "# \tb = (0x000000ff & pixel)\n",
    "\n",
    "# \tback = int(np.int16(a << 8 | b))\n",
    "\n",
    "# \t# print(a, b, pixel, back)\n",
    "\n",
    "# \tprimary.append(a)\n",
    "# \tsecondary.append(b)\n",
    "\n",
    "# data_bytes = primary + secondary\n",
    "# print(len(data_bytes), len(primary), len(secondary))\n",
    "# # print(data_bytes)"
   ]
  },
  {
   "cell_type": "code",
   "execution_count": 62,
   "metadata": {},
   "outputs": [
    {
     "name": "stdout",
     "output_type": "stream",
     "text": [
      "527310 290726\n",
      "1.8137696662837173\n"
     ]
    }
   ],
   "source": [
    "from pydicom import dcmread\n",
    "from pydicom.data import get_testdata_file\n",
    "from pydicom.uid import RLELossless\n",
    "\n",
    "original_size = os.path.getsize(path)\n",
    "\n",
    "arr = ds.pixel_array\n",
    "ds.compress(RLELossless, arr, encoding_plugin = 'pylibjpeg')\n",
    "saved_to = f\"C:/Users/taaha/Downloads/rle_ct_dataset/164515-00000014.dcm\"\n",
    "ds.save_as(saved_to)\n",
    "\n",
    "size = os.path.getsize(saved_to)\n",
    "print(original_size, size)\n",
    "ratio = original_size / size\n",
    "print(ratio)\n"
   ]
  },
  {
   "cell_type": "code",
   "execution_count": null,
   "metadata": {},
   "outputs": [],
   "source": []
  }
 ],
 "metadata": {
  "kernelspec": {
   "display_name": "Python 3",
   "language": "python",
   "name": "python3"
  },
  "language_info": {
   "codemirror_mode": {
    "name": "ipython",
    "version": 3
   },
   "file_extension": ".py",
   "mimetype": "text/x-python",
   "name": "python",
   "nbconvert_exporter": "python",
   "pygments_lexer": "ipython3",
   "version": "3.8.10"
  },
  "orig_nbformat": 4,
  "vscode": {
   "interpreter": {
    "hash": "48a7186a6a5031d68f73780abec3efce5373070c605a4194084a9bc862d97e81"
   }
  }
 },
 "nbformat": 4,
 "nbformat_minor": 2
}
