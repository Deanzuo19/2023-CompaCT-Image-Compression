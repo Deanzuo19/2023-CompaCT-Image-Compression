{
 "cells": [
  {
   "cell_type": "code",
   "execution_count": 1,
   "metadata": {},
   "outputs": [],
   "source": [
    "import pydicom\n",
    "import matplotlib.pyplot as plt\n",
    "import numpy as np"
   ]
  },
  {
   "cell_type": "code",
   "execution_count": 2,
   "metadata": {},
   "outputs": [
    {
     "data": {
      "text/plain": [
       "Dataset.file_meta -------------------------------\n",
       "(0002, 0000) File Meta Information Group Length  UL: 236\n",
       "(0002, 0001) File Meta Information Version       OB: b'\\x00\\x01'\n",
       "(0002, 0002) Media Storage SOP Class UID         UI: CT Image Storage\n",
       "(0002, 0003) Media Storage SOP Instance UID      UI: 1.2.826.0.1.3680043.9.4245.8173625368922488667248605832916382292\n",
       "(0002, 0010) Transfer Syntax UID                 UI: Explicit VR Little Endian\n",
       "(0002, 0012) Implementation Class UID            UI: 1.2.826.0.1.3680043.9.4245.0.0.0.0.1.48.20\n",
       "(0002, 0013) Implementation Version Name         SH: 'Aliza 1.48.20'\n",
       "(0002, 0016) Source Application Entity Title     AE: 'ALIZAAE'\n",
       "-------------------------------------------------\n",
       "(0008, 0005) Specific Character Set              CS: 'ISO_IR 100'\n",
       "(0008, 0008) Image Type                          CS: ['ORIGINAL', 'PRIMARY', 'AXIAL']\n",
       "(0008, 0016) SOP Class UID                       UI: CT Image Storage\n",
       "(0008, 0018) SOP Instance UID                    UI: 1.2.826.0.1.3680043.9.4245.8173625368922488667248605832916382292\n",
       "(0008, 0020) Study Date                          DA: ''\n",
       "(0008, 0021) Series Date                         DA: ''\n",
       "(0008, 0030) Study Time                          TM: ''\n",
       "(0008, 0031) Series Time                         TM: ''\n",
       "(0008, 0050) Accession Number                    SH: ''\n",
       "(0008, 0060) Modality                            CS: 'CT'\n",
       "(0008, 0070) Manufacturer                        LO: 'GE MEDICAL SYSTEMS'\n",
       "(0008, 0090) Referring Physician's Name          PN: ''\n",
       "(0008, 1030) Study Description                   LO: 'HEAD'\n",
       "(0008, 1090) Manufacturer's Model Name           LO: 'HiSpeed Dual'\n",
       "(0010, 0010) Patient's Name                      PN: 'REMOVED'\n",
       "(0010, 0020) Patient ID                          LO: 'QMNx85rKkkg'\n",
       "(0012, 0062) Patient Identity Removed            CS: 'YES'\n",
       "(0012, 0063) De-identification Method            LO: ''\n",
       "(0018, 0015) Body Part Examined                  CS: 'HEAD'\n",
       "(0018, 0050) Slice Thickness                     DS: '7.0'\n",
       "(0018, 0060) KVP                                 DS: '120.0'\n",
       "(0018, 0090) Data Collection Diameter            DS: '250.0'\n",
       "(0018, 1020) Software Versions                   LO: '3.40'\n",
       "(0018, 1050) Spatial Resolution                  DS: '0.42'\n",
       "(0018, 1100) Reconstruction Diameter             DS: '250.0'\n",
       "(0018, 1110) Distance Source to Detector         DS: '949.075'\n",
       "(0018, 1111) Distance Source to Patient          DS: '541.0'\n",
       "(0018, 1120) Gantry/Detector Tilt                DS: '18.5'\n",
       "(0018, 1130) Table Height                        DS: '-155.0'\n",
       "(0018, 1140) Rotation Direction                  CS: 'CW'\n",
       "(0018, 1150) Exposure Time                       IS: '2000'\n",
       "(0018, 1151) X-Ray Tube Current                  IS: '160'\n",
       "(0018, 1170) Generator Power                     IS: '19'\n",
       "(0018, 1190) Focal Spot(s)                       DS: '0.7'\n",
       "(0018, 1210) Convolution Kernel                  SH: 'STD+'\n",
       "(0018, 5100) Patient Position                    CS: 'HFS'\n",
       "(0019, 0010) Private Creator                     LO: 'GEMS_ACQU_01'\n",
       "(0019, 1002) [Detector Channel]                  SL: 708\n",
       "(0019, 1023) [Table Speed [mm/rotation]]         DS: '0.0'\n",
       "(0019, 1024) [Mid Scan Time [sec]]               DS: '44.127'\n",
       "(0019, 1026) [Tube Azimuth [degree]]             SL: 0\n",
       "(0019, 1027) [Rotation Speed [msec]]             DS: '2.0'\n",
       "(0019, 1039) [SFOV Type]                         SS: 2\n",
       "(0019, 1042) [Segment Number]                    SS: 0\n",
       "(0019, 1043) [Total Segments Required]           SS: 0\n",
       "(0020, 000d) Study Instance UID                  UI: 1.2.826.0.1.3680043.9.4245.1760717064491086528325869788156915668\n",
       "(0020, 000e) Series Instance UID                 UI: 1.2.826.0.1.3680043.9.4245.3115138630835728997848661150714813892\n",
       "(0020, 0010) Study ID                            SH: ''\n",
       "(0020, 0011) Series Number                       IS: '2'\n",
       "(0020, 0012) Acquisition Number                  IS: '15'\n",
       "(0020, 0013) Instance Number                     IS: '15'\n",
       "(0020, 0032) Image Position (Patient)            DS: [-125.0000000, -123.5404569, 61.8360586]\n",
       "(0020, 0037) Image Orientation (Patient)         DS: [1.0000000, 0.0000000, 0.0000000, 0.0000000, 0.9483237, -0.3173047]\n",
       "(0020, 0052) Frame of Reference UID              UI: 1.2.826.0.1.3680043.9.4245.7256807831338624888091981779758557877\n",
       "(0020, 1040) Position Reference Indicator        LO: 'OM'\n",
       "(0020, 1041) Slice Location                      DS: '20.5'\n",
       "(0027, 0010) Private Creator                     LO: 'GEMS_IMAG_01'\n",
       "(0027, 1050) [Scan Start Location]               FL: 24.190000534057617\n",
       "(0027, 1051) [Scan End Location]                 FL: 24.190000534057617\n",
       "(0028, 0002) Samples per Pixel                   US: 1\n",
       "(0028, 0004) Photometric Interpretation          CS: 'MONOCHROME2'\n",
       "(0028, 0010) Rows                                US: 512\n",
       "(0028, 0011) Columns                             US: 512\n",
       "(0028, 0030) Pixel Spacing                       DS: [0.4882812, 0.4882812]\n",
       "(0028, 0100) Bits Allocated                      US: 16\n",
       "(0028, 0101) Bits Stored                         US: 16\n",
       "(0028, 0102) High Bit                            US: 15\n",
       "(0028, 0103) Pixel Representation                US: 1\n",
       "(0028, 0120) Pixel Padding Value                 SS: -1500\n",
       "(0028, 1050) Window Center                       DS: '35.0'\n",
       "(0028, 1051) Window Width                        DS: '85.0'\n",
       "(0028, 1052) Rescale Intercept                   DS: '0.0'\n",
       "(0028, 1053) Rescale Slope                       DS: '1.0'\n",
       "(0043, 0010) Private Creator                     LO: 'GEMS_PARM_01'\n",
       "(0043, 1012) [X-ray chain]                       SS: [19983, 19986, 20015]\n",
       "(0043, 1031) [Recon Center Coordinates]          DS: [-0.0000000, -5.0000000]\n",
       "(0043, 1063) [Raw Data ID]                       SH: '15.0'\n",
       "(0043, 1064) [Image Filter]                      CS: ['NONE', 'AAR2']\n",
       "(0043, 1065) [Motion Correction Indicator]       US: 1\n",
       "(0043, 1066) [Helical Correction Indicator]      US: 0\n",
       "(0043, 1067) [IBO Correction Indicator]          US: 1\n",
       "(0043, 1068) [XT Correction Indicator]           US: 1\n",
       "(0043, 1069) [Q-cal Correction Indicator]        US: 1\n",
       "(0043, 106a) [AV Correction Indicator]           US: 1\n",
       "(0043, 106b) [L-MDK Correction Indicator]        US: 0\n",
       "(0043, 106c) [Detector Row]                      IS: '2'\n",
       "(0043, 106d) [Area Size]                         DS: '1.0'\n",
       "(0043, 106e) [Auto mA Mode]                      SH: 'OFF'\n",
       "(004b, 0010) Private Creator                     LO: 'GEMS_CT_HINO_01'\n",
       "(004b, 1001) [Beam Thickess]                     DS: [7.0, 7.0]\n",
       "(7fe0, 0010) Pixel Data                          OW: Array of 524288 elements"
      ]
     },
     "execution_count": 2,
     "metadata": {},
     "output_type": "execute_result"
    }
   ],
   "source": [
    "path = \"C:/Users/taaha/Downloads/ct_nonequi_tilt/164515-00000014.dcm\"\n",
    "ds = pydicom.read_file(path)\n",
    "ds"
   ]
  },
  {
   "cell_type": "code",
   "execution_count": 3,
   "metadata": {},
   "outputs": [
    {
     "data": {
      "text/plain": [
       "<matplotlib.image.AxesImage at 0x261af7684f0>"
      ]
     },
     "execution_count": 3,
     "metadata": {},
     "output_type": "execute_result"
    },
    {
     "data": {
      "image/png": "[encoded data removed]",
      "text/plain": [
       "<Figure size 432x288 with 1 Axes>"
      ]
     },
     "metadata": {
      "needs_background": "light"
     },
     "output_type": "display_data"
    }
   ],
   "source": [
    "plt.imshow(ds.pixel_array, cmap = 'gray')"
   ]
  },
  {
   "cell_type": "code",
   "execution_count": 4,
   "metadata": {},
   "outputs": [
    {
     "data": {
      "text/plain": [
       "dtype('int16')"
      ]
     },
     "execution_count": 4,
     "metadata": {},
     "output_type": "execute_result"
    }
   ],
   "source": [
    "ds.pixel_array[0, 0].dtype"
   ]
  },
  {
   "cell_type": "code",
   "execution_count": 5,
   "metadata": {},
   "outputs": [
    {
     "data": {
      "text/plain": [
       "2745"
      ]
     },
     "execution_count": 5,
     "metadata": {},
     "output_type": "execute_result"
    }
   ],
   "source": [
    "unique = np.unique(ds.pixel_array)\n",
    "len(unique)"
   ]
  },
  {
   "cell_type": "code",
   "execution_count": 6,
   "metadata": {},
   "outputs": [
    {
     "data": {
      "text/plain": [
       "524288"
      ]
     },
     "execution_count": 6,
     "metadata": {},
     "output_type": "execute_result"
    }
   ],
   "source": [
    "data = ds.pixel_array.tobytes()\n",
    "len(data)"
   ]
  },
  {
   "cell_type": "code",
   "execution_count": 7,
   "metadata": {},
   "outputs": [
    {
     "name": "stdout",
     "output_type": "stream",
     "text": [
      "250\n",
      "36\n"
     ]
    }
   ],
   "source": [
    "primary = data[1::2]\n",
    "secondary = data[0::2]\n",
    "\n",
    "print(int(primary[0]))\n",
    "print(int(secondary[0]))"
   ]
  },
  {
   "cell_type": "code",
   "execution_count": 8,
   "metadata": {},
   "outputs": [],
   "source": [
    "# primary = bytearray()\n",
    "# secondary = bytearray()\n",
    "\n",
    "# for pixel in ds.pixel_data.flatten():\n",
    "\n",
    "# \ta = (0x0000ff00 & pixel) >> 8\n",
    "# \tb = (0x000000ff & pixel)\n",
    "\n",
    "# \tback = int(np.int16(a << 8 | b))\n",
    "\n",
    "# \t# print(a, b, pixel, back)\n",
    "\n",
    "# \tprimary.append(a)\n",
    "# \tsecondary.append(b)\n",
    "\n",
    "# data_bytes = primary + secondary\n",
    "# print(len(data_bytes), len(primary), len(secondary))\n",
    "# # print(data_bytes)"
   ]
  },
  {
   "cell_type": "code",
   "execution_count": 9,
   "metadata": {},
   "outputs": [
    {
     "name": "stdout",
     "output_type": "stream",
     "text": [
      "526224 255808\n",
      "2.0571053289967476\n"
     ]
    }
   ],
   "source": [
    "from pydicom import dcmread\n",
    "from pydicom.data import get_testdata_file\n",
    "from pydicom.uid import RLELossless\n",
    "\n",
    "original_size = os.path.getsize(path)\n",
    "\n",
    "arr = ds.pixel_array\n",
    "ds.compress(RLELossless, arr, encoding_plugin = 'pylibjpeg')\n",
    "saved_to = f\"C:/Users/taaha/Downloads/rle_ct_dataset/164515-00000014.dcm\"\n",
    "ds.save_as(saved_to)\n",
    "\n",
    "size = os.path.getsize(saved_to)\n",
    "print(original_size, size)\n",
    "ratio = original_size / size\n",
    "print(ratio)\n"
   ]
  },
  {
   "cell_type": "code",
   "execution_count": null,
   "metadata": {},
   "outputs": [],
   "source": []
  }
 ],
 "metadata": {
  "kernelspec": {
   "display_name": "Python 3",
   "language": "python",
   "name": "python3"
  },
  "language_info": {
   "codemirror_mode": {
    "name": "ipython",
    "version": 3
   },
   "file_extension": ".py",
   "mimetype": "text/x-python",
   "name": "python",
   "nbconvert_exporter": "python",
   "pygments_lexer": "ipython3",
   "version": "3.8.10"
  },
  "orig_nbformat": 4,
  "vscode": {
   "interpreter": {
    "hash": "48a7186a6a5031d68f73780abec3efce5373070c605a4194084a9bc862d97e81"
   }
  }
 },
 "nbformat": 4,
 "nbformat_minor": 2
}
