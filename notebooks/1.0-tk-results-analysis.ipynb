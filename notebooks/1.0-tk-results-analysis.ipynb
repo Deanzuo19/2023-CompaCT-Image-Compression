{
 "cells": [
  {
   "cell_type": "code",
   "execution_count": 19,
   "metadata": {},
   "outputs": [],
   "source": [
    "import pandas as pd\n",
    "import numpy as np\n",
    "import seaborn as sns"
   ]
  },
  {
   "cell_type": "code",
   "execution_count": 20,
   "metadata": {},
   "outputs": [
    {
     "data": {
      "text/html": [
       "<div>\n",
       "<style scoped>\n",
       "    .dataframe tbody tr th:only-of-type {\n",
       "        vertical-align: middle;\n",
       "    }\n",
       "\n",
       "    .dataframe tbody tr th {\n",
       "        vertical-align: top;\n",
       "    }\n",
       "\n",
       "    .dataframe thead th {\n",
       "        text-align: right;\n",
       "    }\n",
       "</style>\n",
       "<table border=\"1\" class=\"dataframe\">\n",
       "  <thead>\n",
       "    <tr style=\"text-align: right;\">\n",
       "      <th></th>\n",
       "      <th>File</th>\n",
       "      <th>Raw</th>\n",
       "      <th>ZIP</th>\n",
       "      <th>PNG</th>\n",
       "      <th>RLE</th>\n",
       "      <th>JP2</th>\n",
       "      <th>CCT</th>\n",
       "    </tr>\n",
       "  </thead>\n",
       "  <tbody>\n",
       "    <tr>\n",
       "      <th>0</th>\n",
       "      <td>(0000)-1-001.dcm</td>\n",
       "      <td>524288</td>\n",
       "      <td>238968</td>\n",
       "      <td>219633</td>\n",
       "      <td>239446</td>\n",
       "      <td>253873</td>\n",
       "      <td>175563</td>\n",
       "    </tr>\n",
       "    <tr>\n",
       "      <th>1</th>\n",
       "      <td>(0001)-1-002.dcm</td>\n",
       "      <td>524288</td>\n",
       "      <td>238967</td>\n",
       "      <td>219751</td>\n",
       "      <td>239592</td>\n",
       "      <td>254039</td>\n",
       "      <td>175335</td>\n",
       "    </tr>\n",
       "    <tr>\n",
       "      <th>2</th>\n",
       "      <td>(0002)-1-003.dcm</td>\n",
       "      <td>524288</td>\n",
       "      <td>239163</td>\n",
       "      <td>220701</td>\n",
       "      <td>240392</td>\n",
       "      <td>254505</td>\n",
       "      <td>175826</td>\n",
       "    </tr>\n",
       "    <tr>\n",
       "      <th>3</th>\n",
       "      <td>(0003)-1-004.dcm</td>\n",
       "      <td>524288</td>\n",
       "      <td>240067</td>\n",
       "      <td>221092</td>\n",
       "      <td>241390</td>\n",
       "      <td>254979</td>\n",
       "      <td>176203</td>\n",
       "    </tr>\n",
       "    <tr>\n",
       "      <th>4</th>\n",
       "      <td>(0004)-1-005.dcm</td>\n",
       "      <td>524288</td>\n",
       "      <td>239798</td>\n",
       "      <td>221485</td>\n",
       "      <td>241766</td>\n",
       "      <td>254962</td>\n",
       "      <td>176351</td>\n",
       "    </tr>\n",
       "  </tbody>\n",
       "</table>\n",
       "</div>"
      ],
      "text/plain": [
       "               File     Raw     ZIP     PNG     RLE     JP2     CCT\n",
       "0  (0000)-1-001.dcm  524288  238968  219633  239446  253873  175563\n",
       "1  (0001)-1-002.dcm  524288  238967  219751  239592  254039  175335\n",
       "2  (0002)-1-003.dcm  524288  239163  220701  240392  254505  175826\n",
       "3  (0003)-1-004.dcm  524288  240067  221092  241390  254979  176203\n",
       "4  (0004)-1-005.dcm  524288  239798  221485  241766  254962  176351"
      ]
     },
     "execution_count": 20,
     "metadata": {},
     "output_type": "execute_result"
    }
   ],
   "source": [
    "results_file = '../results/encoder-comparisons.csv'\n",
    "\n",
    "df = pd.read_csv(results_file)\n",
    "df.head()"
   ]
  },
  {
   "cell_type": "code",
   "execution_count": 21,
   "metadata": {},
   "outputs": [],
   "source": [
    "\n",
    "raw = df['Raw']\n",
    "cols = df.columns[1:]\n",
    "\n",
    "rates_dict = {}\n",
    "saved_dict = {}\n",
    "total_dict = {}\n",
    "\n",
    "for col in cols:\n",
    "\n",
    "\trate = raw.sum() / df[col].sum()\n",
    "\tsaved = 100 * (1 - df[col].sum() / raw.sum())\n",
    "\ttotal = df[col].sum() / 1_000_000\n",
    "\t\n",
    "\trates_dict[col] = rate\n",
    "\tsaved_dict[col] = saved\n",
    "\ttotal_dict[col] = total\n"
   ]
  },
  {
   "cell_type": "code",
   "execution_count": 22,
   "metadata": {},
   "outputs": [
    {
     "data": {
      "text/html": [
       "<div>\n",
       "<style scoped>\n",
       "    .dataframe tbody tr th:only-of-type {\n",
       "        vertical-align: middle;\n",
       "    }\n",
       "\n",
       "    .dataframe tbody tr th {\n",
       "        vertical-align: top;\n",
       "    }\n",
       "\n",
       "    .dataframe thead th {\n",
       "        text-align: right;\n",
       "    }\n",
       "</style>\n",
       "<table border=\"1\" class=\"dataframe\">\n",
       "  <thead>\n",
       "    <tr style=\"text-align: right;\">\n",
       "      <th></th>\n",
       "      <th>Algorithm</th>\n",
       "      <th>Compression Rate (X)</th>\n",
       "    </tr>\n",
       "  </thead>\n",
       "  <tbody>\n",
       "    <tr>\n",
       "      <th>0</th>\n",
       "      <td>Raw</td>\n",
       "      <td>1.000000</td>\n",
       "    </tr>\n",
       "    <tr>\n",
       "      <th>1</th>\n",
       "      <td>ZIP</td>\n",
       "      <td>2.208277</td>\n",
       "    </tr>\n",
       "    <tr>\n",
       "      <th>2</th>\n",
       "      <td>PNG</td>\n",
       "      <td>2.383038</td>\n",
       "    </tr>\n",
       "    <tr>\n",
       "      <th>3</th>\n",
       "      <td>RLE</td>\n",
       "      <td>2.151307</td>\n",
       "    </tr>\n",
       "    <tr>\n",
       "      <th>4</th>\n",
       "      <td>JP2</td>\n",
       "      <td>2.061459</td>\n",
       "    </tr>\n",
       "    <tr>\n",
       "      <th>5</th>\n",
       "      <td>CCT</td>\n",
       "      <td>2.954259</td>\n",
       "    </tr>\n",
       "  </tbody>\n",
       "</table>\n",
       "</div>"
      ],
      "text/plain": [
       "  Algorithm  Compression Rate (X)\n",
       "0       Raw              1.000000\n",
       "1       ZIP              2.208277\n",
       "2       PNG              2.383038\n",
       "3       RLE              2.151307\n",
       "4       JP2              2.061459\n",
       "5       CCT              2.954259"
      ]
     },
     "execution_count": 22,
     "metadata": {},
     "output_type": "execute_result"
    }
   ],
   "source": [
    "rates = pd.DataFrame({\"Algorithm\": list(rates_dict.keys()), \"Compression Rate (X)\": list(rates_dict.values())})\n",
    "saved = pd.DataFrame({\"Algorithm\": list(saved_dict.keys()), \"Space Saved (%)\": list(saved_dict.values())})\n",
    "total = pd.DataFrame({\"Algorithm\": list(total_dict.keys()), \"Total Size (MB)\": list(total_dict.values())})\n",
    "\n",
    "rates"
   ]
  },
  {
   "cell_type": "code",
   "execution_count": 23,
   "metadata": {},
   "outputs": [
    {
     "data": {
      "text/plain": [
       "<AxesSubplot:xlabel='Algorithm', ylabel='Compression Rate (X)'>"
      ]
     },
     "execution_count": 23,
     "metadata": {},
     "output_type": "execute_result"
    },
    {
     "data": {
      "image/png": "[encoded data removed]",
      "text/plain": [
       "<Figure size 432x288 with 1 Axes>"
      ]
     },
     "metadata": {
      "needs_background": "light"
     },
     "output_type": "display_data"
    }
   ],
   "source": [
    "sns.barplot(x = 'Algorithm', y = 'Compression Rate (X)', data = rates)"
   ]
  },
  {
   "cell_type": "code",
   "execution_count": 24,
   "metadata": {},
   "outputs": [
    {
     "data": {
      "text/plain": [
       "<AxesSubplot:xlabel='Algorithm', ylabel='Space Saved (%)'>"
      ]
     },
     "execution_count": 24,
     "metadata": {},
     "output_type": "execute_result"
    },
    {
     "data": {
      "image/png": "[encoded data removed]",
      "text/plain": [
       "<Figure size 432x288 with 1 Axes>"
      ]
     },
     "metadata": {
      "needs_background": "light"
     },
     "output_type": "display_data"
    }
   ],
   "source": [
    "sns.barplot(x = 'Algorithm', y = 'Space Saved (%)', data = saved)"
   ]
  },
  {
   "cell_type": "code",
   "execution_count": 25,
   "metadata": {},
   "outputs": [
    {
     "data": {
      "text/plain": [
       "<AxesSubplot:xlabel='Algorithm', ylabel='Total Size (MB)'>"
      ]
     },
     "execution_count": 25,
     "metadata": {},
     "output_type": "execute_result"
    },
    {
     "data": {
      "image/png": "[encoded data removed]",
      "text/plain": [
       "<Figure size 432x288 with 1 Axes>"
      ]
     },
     "metadata": {
      "needs_background": "light"
     },
     "output_type": "display_data"
    }
   ],
   "source": [
    "sns.barplot(x = 'Algorithm', y = 'Total Size (MB)', data = total)"
   ]
  },
  {
   "cell_type": "code",
   "execution_count": 26,
   "metadata": {},
   "outputs": [],
   "source": [
    "def percent_increase(start, final):\n",
    "\treturn (final - start) / abs(start)"
   ]
  },
  {
   "cell_type": "code",
   "execution_count": 27,
   "metadata": {},
   "outputs": [
    {
     "data": {
      "text/plain": [
       "array([[ 0.  ,  1.21,  1.38,  1.15,  1.06,  1.95],\n",
       "       [-0.55,  0.  ,  0.08, -0.03, -0.07,  0.34],\n",
       "       [-0.58, -0.07,  0.  , -0.1 , -0.13,  0.24],\n",
       "       [-0.54,  0.03,  0.11,  0.  , -0.04,  0.37],\n",
       "       [-0.51,  0.07,  0.16,  0.04,  0.  ,  0.43],\n",
       "       [-0.66, -0.25, -0.19, -0.27, -0.3 ,  0.  ]])"
      ]
     },
     "execution_count": 27,
     "metadata": {},
     "output_type": "execute_result"
    }
   ],
   "source": [
    "\n",
    "rates_diff = np.zeros((len(rates_dict), len(rates_dict)), dtype = float)\n",
    "\n",
    "for i, A in enumerate(rates_dict):\n",
    "\tfor j, B in enumerate(rates_dict):\n",
    "\t\tif A == B: continue\n",
    "\n",
    "\t\trates_diff[i, j] = round(percent_increase(rates_dict[A], rates_dict[B]), 2)\n",
    "\t\n",
    "rates_diff\n"
   ]
  },
  {
   "cell_type": "code",
   "execution_count": null,
   "metadata": {},
   "outputs": [],
   "source": []
  }
 ],
 "metadata": {
  "kernelspec": {
   "display_name": "Python 3",
   "language": "python",
   "name": "python3"
  },
  "language_info": {
   "codemirror_mode": {
    "name": "ipython",
    "version": 3
   },
   "file_extension": ".py",
   "mimetype": "text/x-python",
   "name": "python",
   "nbconvert_exporter": "python",
   "pygments_lexer": "ipython3",
   "version": "3.8.10"
  },
  "orig_nbformat": 4,
  "vscode": {
   "interpreter": {
    "hash": "48a7186a6a5031d68f73780abec3efce5373070c605a4194084a9bc862d97e81"
   }
  }
 },
 "nbformat": 4,
 "nbformat_minor": 2
}
